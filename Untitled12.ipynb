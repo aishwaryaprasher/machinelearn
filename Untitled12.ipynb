{
  "nbformat": 4,
  "nbformat_minor": 0,
  "metadata": {
    "colab": {
      "name": "Untitled12.ipynb",
      "version": "0.3.2",
      "provenance": [],
      "include_colab_link": true
    },
    "kernelspec": {
      "name": "python3",
      "display_name": "Python 3"
    }
  },
  "cells": [
    {
      "cell_type": "markdown",
      "metadata": {
        "id": "view-in-github",
        "colab_type": "text"
      },
      "source": [
        "[View in Colaboratory](https://colab.research.google.com/github/aishwaryaprasher/machinelearn/blob/master/Untitled12.ipynb)"
      ]
    },
    {
      "metadata": {
        "id": "NW4EzVfe1ZkO",
        "colab_type": "code",
        "colab": {}
      },
      "cell_type": "code",
      "source": [
        "import numpy as np\n",
        "import pandas as pd\n",
        "\n"
      ],
      "execution_count": 0,
      "outputs": []
    },
    {
      "metadata": {
        "id": "75pa73HS1f1O",
        "colab_type": "code",
        "colab": {}
      },
      "cell_type": "code",
      "source": [
        "from sklearn import datasets\n",
        "from sklearn.metrics import confusion_matrix, classification_report\n",
        "from sklearn.linear_model import LogisticRegression\n",
        "\n",
        "import matplotlib.pyplot as plt\n",
        "\n",
        "#Load the digits dataset\n",
        "digits = datasets.load_digits()\n",
        "\n",
        "X_raw = digits['data']\n",
        "y = digits['target']"
      ],
      "execution_count": 0,
      "outputs": []
    },
    {
      "metadata": {
        "id": "c009n3m58lSN",
        "colab_type": "code",
        "colab": {}
      },
      "cell_type": "code",
      "source": [
        "from sklearn.model_selection import train_test_split\n",
        "from sklearn.preprocessing import StandardScaler\n",
        "\n",
        "sscaler = StandardScaler()\n",
        "X = sscaler.fit_transform(X_raw)\n",
        "X_train, X_test, y_train, y_test = train_test_split(X, y, test_size=0.60, random_state=0)"
      ],
      "execution_count": 0,
      "outputs": []
    },
    {
      "metadata": {
        "id": "xkaxp_iC8u0F",
        "colab_type": "code",
        "colab": {}
      },
      "cell_type": "code",
      "source": [
        "from sklearn.decomposition import PCA\n",
        "\n",
        "pca = PCA(n_components=62)\n",
        "\n",
        "X_train_pca = pca.fit_transform(X_train)"
      ],
      "execution_count": 0,
      "outputs": []
    },
    {
      "metadata": {
        "id": "o3NezC0198m1",
        "colab_type": "code",
        "colab": {
          "base_uri": "https://localhost:8080/",
          "height": 192
        },
        "outputId": "97ee503c-2070-41ba-ac07-6a2ff4f00018"
      },
      "cell_type": "code",
      "source": [
        "classifier = LogisticRegression(random_state = 0)\n",
        "classifier.fit(X_train, y_train)\n",
        "\n",
        "# Predicting the Test set results\n",
        "y_pred = classifier.predict(X_test)\n",
        "\n",
        "print (\"Accuracy score comes out to be: \"), classifier.score(X_test, y_test)\n",
        "print (\"\\nConfusion matrix: \\n\"), confusion_matrix(y_test, y_pred)\n",
        "print (\"\\nClassification Report: \\n\"), classification_report(y_test, y_pred)"
      ],
      "execution_count": 13,
      "outputs": [
        {
          "output_type": "stream",
          "text": [
            "Accuracy score comes out to be: \n",
            "\n",
            "Confusion matrix: \n",
            "\n",
            "\n",
            "Classification Report: \n",
            "\n"
          ],
          "name": "stdout"
        },
        {
          "output_type": "execute_result",
          "data": {
            "text/plain": [
              "(None,\n",
              " '             precision    recall  f1-score   support\\n\\n          0       0.96      1.00      0.98       107\\n          1       0.96      0.94      0.95       108\\n          2       0.94      0.97      0.96       102\\n          3       0.96      0.97      0.96       115\\n          4       0.96      0.98      0.97       101\\n          5       0.96      0.97      0.96       124\\n          6       0.95      0.98      0.97       106\\n          7       0.97      0.98      0.97        98\\n          8       0.98      0.81      0.88       109\\n          9       0.90      0.95      0.93       109\\n\\navg / total       0.96      0.95      0.95      1079\\n')"
            ]
          },
          "metadata": {
            "tags": []
          },
          "execution_count": 13
        }
      ]
    }
  ]
}