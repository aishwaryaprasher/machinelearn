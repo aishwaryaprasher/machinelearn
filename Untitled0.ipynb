{
  "nbformat": 4,
  "nbformat_minor": 0,
  "metadata": {
    "colab": {
      "name": "Untitled0.ipynb",
      "version": "0.3.2",
      "provenance": [],
      "include_colab_link": true
    }
  },
  "cells": [
    {
      "cell_type": "markdown",
      "metadata": {
        "id": "view-in-github",
        "colab_type": "text"
      },
      "source": [
        "[View in Colaboratory](https://colab.research.google.com/github/aishwaryaprasher/machinelearn/blob/master/Untitled0.ipynb)"
      ]
    },
    {
      "metadata": {
        "id": "q8DLr5Szff7T",
        "colab_type": "code",
        "colab": {
          "base_uri": "https://localhost:8080/",
          "height": 34
        },
        "outputId": "1f07ff95-0b17-495f-be1c-3c7c71a4e294"
      },
      "cell_type": "code",
      "source": [
        "x = [1, 2, 3, 4, 5, 6, 7, 8, 9, 10, 11, 12, 13, 14, 15, 16]\n",
        "#ques1.a\n",
        "print(x[7:12])\n"
      ],
      "execution_count": 2,
      "outputs": [
        {
          "output_type": "stream",
          "text": [
            "[8, 9, 10, 11, 12]\n"
          ],
          "name": "stdout"
        }
      ]
    },
    {
      "metadata": {
        "id": "a08jlaVAfcel",
        "colab_type": "code",
        "colab": {
          "base_uri": "https://localhost:8080/",
          "height": 34
        },
        "outputId": "615c43c6-98ce-4f6d-ca88-434e249fdc4d"
      },
      "cell_type": "code",
      "source": [
        "#ques1.b\n",
        "print(x[-9:-4])\n"
      ],
      "execution_count": 3,
      "outputs": [
        {
          "output_type": "stream",
          "text": [
            "[8, 9, 10, 11, 12]\n"
          ],
          "name": "stdout"
        }
      ]
    },
    {
      "metadata": {
        "id": "Z7rBJMoHf-yz",
        "colab_type": "code",
        "colab": {
          "base_uri": "https://localhost:8080/",
          "height": 34
        },
        "outputId": "9ea1b8e6-3115-44de-cf3d-c6b4a194a7c2"
      },
      "cell_type": "code",
      "source": [
        "#ques2\n",
        "print(x[1:16:2])\n"
      ],
      "execution_count": 4,
      "outputs": [
        {
          "output_type": "stream",
          "text": [
            "[2, 4, 6, 8, 10, 12, 14, 16]\n"
          ],
          "name": "stdout"
        }
      ]
    },
    {
      "metadata": {
        "id": "GVFUodjMir08",
        "colab_type": "code",
        "colab": {
          "base_uri": "https://localhost:8080/",
          "height": 34
        },
        "outputId": "ac47f4b6-50bf-41d9-d2e0-64f7fc4478e3"
      },
      "cell_type": "code",
      "source": [
        "#ques3\n",
        "print(x[:16:4])"
      ],
      "execution_count": 5,
      "outputs": [
        {
          "output_type": "stream",
          "text": [
            "[1, 5, 9, 13]\n"
          ],
          "name": "stdout"
        }
      ]
    }
  ]
}