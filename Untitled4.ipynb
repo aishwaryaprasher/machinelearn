{
  "nbformat": 4,
  "nbformat_minor": 0,
  "metadata": {
    "colab": {
      "name": "Untitled4.ipynb",
      "version": "0.3.2",
      "provenance": [],
      "include_colab_link": true
    },
    "kernelspec": {
      "name": "python3",
      "display_name": "Python 3"
    }
  },
  "cells": [
    {
      "cell_type": "markdown",
      "metadata": {
        "id": "view-in-github",
        "colab_type": "text"
      },
      "source": [
        "[View in Colaboratory](https://colab.research.google.com/github/aishwaryaprasher/machinelearn/blob/master/Untitled4.ipynb)"
      ]
    },
    {
      "metadata": {
        "id": "qrr3GH0bq5yA",
        "colab_type": "code",
        "colab": {}
      },
      "cell_type": "code",
      "source": [
        "import pandas as pd\n",
        "import numpy as np"
      ],
      "execution_count": 0,
      "outputs": []
    },
    {
      "metadata": {
        "id": "V0dOsCabtLwn",
        "colab_type": "code",
        "colab": {
          "base_uri": "https://localhost:8080/",
          "height": 249
        },
        "outputId": "bfbe3652-9fca-4bf7-8950-62cee063e38b"
      },
      "cell_type": "code",
      "source": [
        "df = pd.read_csv(\"https://raw.githubusercontent.com/Shreyas3108/Weather/master/weather.csv\")\n",
        "\n",
        "df.head()"
      ],
      "execution_count": 8,
      "outputs": [
        {
          "output_type": "execute_result",
          "data": {
            "text/html": [
              "<div>\n",
              "<style scoped>\n",
              "    .dataframe tbody tr th:only-of-type {\n",
              "        vertical-align: middle;\n",
              "    }\n",
              "\n",
              "    .dataframe tbody tr th {\n",
              "        vertical-align: top;\n",
              "    }\n",
              "\n",
              "    .dataframe thead th {\n",
              "        text-align: right;\n",
              "    }\n",
              "</style>\n",
              "<table border=\"1\" class=\"dataframe\">\n",
              "  <thead>\n",
              "    <tr style=\"text-align: right;\">\n",
              "      <th></th>\n",
              "      <th>Date</th>\n",
              "      <th>Location</th>\n",
              "      <th>MinTemp</th>\n",
              "      <th>MaxTemp</th>\n",
              "      <th>Rainfall</th>\n",
              "      <th>Evaporation</th>\n",
              "      <th>Sunshine</th>\n",
              "      <th>WindGustDir</th>\n",
              "      <th>WindGustSpeed</th>\n",
              "      <th>WindDir9am</th>\n",
              "      <th>...</th>\n",
              "      <th>Humidity3pm</th>\n",
              "      <th>Pressure9am</th>\n",
              "      <th>Pressure3pm</th>\n",
              "      <th>Cloud9am</th>\n",
              "      <th>Cloud3pm</th>\n",
              "      <th>Temp9am</th>\n",
              "      <th>Temp3pm</th>\n",
              "      <th>RainToday</th>\n",
              "      <th>RISK_MM</th>\n",
              "      <th>RainTomorrow</th>\n",
              "    </tr>\n",
              "  </thead>\n",
              "  <tbody>\n",
              "    <tr>\n",
              "      <th>0</th>\n",
              "      <td>11/1/2007</td>\n",
              "      <td>Canberra</td>\n",
              "      <td>8.0</td>\n",
              "      <td>24.3</td>\n",
              "      <td>0.0</td>\n",
              "      <td>3.4</td>\n",
              "      <td>6.3</td>\n",
              "      <td>NW</td>\n",
              "      <td>30.0</td>\n",
              "      <td>SW</td>\n",
              "      <td>...</td>\n",
              "      <td>29</td>\n",
              "      <td>1019.7</td>\n",
              "      <td>1015.0</td>\n",
              "      <td>7</td>\n",
              "      <td>7</td>\n",
              "      <td>14.4</td>\n",
              "      <td>23.6</td>\n",
              "      <td>No</td>\n",
              "      <td>3.6</td>\n",
              "      <td>Yes</td>\n",
              "    </tr>\n",
              "    <tr>\n",
              "      <th>1</th>\n",
              "      <td>11/2/2007</td>\n",
              "      <td>Canberra</td>\n",
              "      <td>14.0</td>\n",
              "      <td>26.9</td>\n",
              "      <td>3.6</td>\n",
              "      <td>4.4</td>\n",
              "      <td>9.7</td>\n",
              "      <td>ENE</td>\n",
              "      <td>39.0</td>\n",
              "      <td>E</td>\n",
              "      <td>...</td>\n",
              "      <td>36</td>\n",
              "      <td>1012.4</td>\n",
              "      <td>1008.4</td>\n",
              "      <td>5</td>\n",
              "      <td>3</td>\n",
              "      <td>17.5</td>\n",
              "      <td>25.7</td>\n",
              "      <td>Yes</td>\n",
              "      <td>3.6</td>\n",
              "      <td>Yes</td>\n",
              "    </tr>\n",
              "    <tr>\n",
              "      <th>2</th>\n",
              "      <td>11/3/2007</td>\n",
              "      <td>Canberra</td>\n",
              "      <td>13.7</td>\n",
              "      <td>23.4</td>\n",
              "      <td>3.6</td>\n",
              "      <td>5.8</td>\n",
              "      <td>3.3</td>\n",
              "      <td>NW</td>\n",
              "      <td>85.0</td>\n",
              "      <td>N</td>\n",
              "      <td>...</td>\n",
              "      <td>69</td>\n",
              "      <td>1009.5</td>\n",
              "      <td>1007.2</td>\n",
              "      <td>8</td>\n",
              "      <td>7</td>\n",
              "      <td>15.4</td>\n",
              "      <td>20.2</td>\n",
              "      <td>Yes</td>\n",
              "      <td>39.8</td>\n",
              "      <td>Yes</td>\n",
              "    </tr>\n",
              "    <tr>\n",
              "      <th>3</th>\n",
              "      <td>11/4/2007</td>\n",
              "      <td>Canberra</td>\n",
              "      <td>13.3</td>\n",
              "      <td>15.5</td>\n",
              "      <td>39.8</td>\n",
              "      <td>7.2</td>\n",
              "      <td>9.1</td>\n",
              "      <td>NW</td>\n",
              "      <td>54.0</td>\n",
              "      <td>WNW</td>\n",
              "      <td>...</td>\n",
              "      <td>56</td>\n",
              "      <td>1005.5</td>\n",
              "      <td>1007.0</td>\n",
              "      <td>2</td>\n",
              "      <td>7</td>\n",
              "      <td>13.5</td>\n",
              "      <td>14.1</td>\n",
              "      <td>Yes</td>\n",
              "      <td>2.8</td>\n",
              "      <td>Yes</td>\n",
              "    </tr>\n",
              "    <tr>\n",
              "      <th>4</th>\n",
              "      <td>11/5/2007</td>\n",
              "      <td>Canberra</td>\n",
              "      <td>7.6</td>\n",
              "      <td>16.1</td>\n",
              "      <td>2.8</td>\n",
              "      <td>5.6</td>\n",
              "      <td>10.6</td>\n",
              "      <td>SSE</td>\n",
              "      <td>50.0</td>\n",
              "      <td>SSE</td>\n",
              "      <td>...</td>\n",
              "      <td>49</td>\n",
              "      <td>1018.3</td>\n",
              "      <td>1018.5</td>\n",
              "      <td>7</td>\n",
              "      <td>7</td>\n",
              "      <td>11.1</td>\n",
              "      <td>15.4</td>\n",
              "      <td>Yes</td>\n",
              "      <td>0.0</td>\n",
              "      <td>No</td>\n",
              "    </tr>\n",
              "  </tbody>\n",
              "</table>\n",
              "<p>5 rows × 24 columns</p>\n",
              "</div>"
            ],
            "text/plain": [
              "        Date  Location  MinTemp  MaxTemp  Rainfall  Evaporation  Sunshine  \\\n",
              "0  11/1/2007  Canberra      8.0     24.3       0.0          3.4       6.3   \n",
              "1  11/2/2007  Canberra     14.0     26.9       3.6          4.4       9.7   \n",
              "2  11/3/2007  Canberra     13.7     23.4       3.6          5.8       3.3   \n",
              "3  11/4/2007  Canberra     13.3     15.5      39.8          7.2       9.1   \n",
              "4  11/5/2007  Canberra      7.6     16.1       2.8          5.6      10.6   \n",
              "\n",
              "  WindGustDir  WindGustSpeed WindDir9am      ...      Humidity3pm  \\\n",
              "0          NW           30.0         SW      ...               29   \n",
              "1         ENE           39.0          E      ...               36   \n",
              "2          NW           85.0          N      ...               69   \n",
              "3          NW           54.0        WNW      ...               56   \n",
              "4         SSE           50.0        SSE      ...               49   \n",
              "\n",
              "   Pressure9am  Pressure3pm  Cloud9am  Cloud3pm  Temp9am  Temp3pm  RainToday  \\\n",
              "0       1019.7       1015.0         7         7     14.4     23.6         No   \n",
              "1       1012.4       1008.4         5         3     17.5     25.7        Yes   \n",
              "2       1009.5       1007.2         8         7     15.4     20.2        Yes   \n",
              "3       1005.5       1007.0         2         7     13.5     14.1        Yes   \n",
              "4       1018.3       1018.5         7         7     11.1     15.4        Yes   \n",
              "\n",
              "   RISK_MM  RainTomorrow  \n",
              "0      3.6           Yes  \n",
              "1      3.6           Yes  \n",
              "2     39.8           Yes  \n",
              "3      2.8           Yes  \n",
              "4      0.0            No  \n",
              "\n",
              "[5 rows x 24 columns]"
            ]
          },
          "metadata": {
            "tags": []
          },
          "execution_count": 8
        }
      ]
    },
    {
      "metadata": {
        "id": "k2X0pAentaKD",
        "colab_type": "code",
        "colab": {
          "base_uri": "https://localhost:8080/",
          "height": 448
        },
        "outputId": "0fdb15e4-5b3f-47b5-c704-4aaf4014faba"
      },
      "cell_type": "code",
      "source": [
        "\n",
        "df.isnull().sum()"
      ],
      "execution_count": 9,
      "outputs": [
        {
          "output_type": "execute_result",
          "data": {
            "text/plain": [
              "Date              0\n",
              "Location          0\n",
              "MinTemp           0\n",
              "MaxTemp           0\n",
              "Rainfall          0\n",
              "Evaporation       0\n",
              "Sunshine          3\n",
              "WindGustDir       3\n",
              "WindGustSpeed     2\n",
              "WindDir9am       31\n",
              "WindDir3pm        1\n",
              "WindSpeed9am      7\n",
              "WindSpeed3pm      0\n",
              "Humidity9am       0\n",
              "Humidity3pm       0\n",
              "Pressure9am       0\n",
              "Pressure3pm       0\n",
              "Cloud9am          0\n",
              "Cloud3pm          0\n",
              "Temp9am           0\n",
              "Temp3pm           0\n",
              "RainToday         0\n",
              "RISK_MM           0\n",
              "RainTomorrow      0\n",
              "dtype: int64"
            ]
          },
          "metadata": {
            "tags": []
          },
          "execution_count": 9
        }
      ]
    },
    {
      "metadata": {
        "id": "oW_wTBmHtkZp",
        "colab_type": "code",
        "colab": {
          "base_uri": "https://localhost:8080/",
          "height": 448
        },
        "outputId": "73bce011-651d-4b16-ac72-9671691cdf1d"
      },
      "cell_type": "code",
      "source": [
        "df = df.dropna()\n",
        "df.isnull().sum()"
      ],
      "execution_count": 10,
      "outputs": [
        {
          "output_type": "execute_result",
          "data": {
            "text/plain": [
              "Date             0\n",
              "Location         0\n",
              "MinTemp          0\n",
              "MaxTemp          0\n",
              "Rainfall         0\n",
              "Evaporation      0\n",
              "Sunshine         0\n",
              "WindGustDir      0\n",
              "WindGustSpeed    0\n",
              "WindDir9am       0\n",
              "WindDir3pm       0\n",
              "WindSpeed9am     0\n",
              "WindSpeed3pm     0\n",
              "Humidity9am      0\n",
              "Humidity3pm      0\n",
              "Pressure9am      0\n",
              "Pressure3pm      0\n",
              "Cloud9am         0\n",
              "Cloud3pm         0\n",
              "Temp9am          0\n",
              "Temp3pm          0\n",
              "RainToday        0\n",
              "RISK_MM          0\n",
              "RainTomorrow     0\n",
              "dtype: int64"
            ]
          },
          "metadata": {
            "tags": []
          },
          "execution_count": 10
        }
      ]
    },
    {
      "metadata": {
        "id": "NUfCPQLXtuNP",
        "colab_type": "code",
        "colab": {
          "base_uri": "https://localhost:8080/",
          "height": 448
        },
        "outputId": "8de7cf15-2263-4135-fe7d-0c34fe719fe0"
      },
      "cell_type": "code",
      "source": [
        "data = pd.read_csv(\"https://raw.githubusercontent.com/Shreyas3108/Weather/master/weather.csv\")\n",
        "\n",
        "data.isnull().sum()"
      ],
      "execution_count": 11,
      "outputs": [
        {
          "output_type": "execute_result",
          "data": {
            "text/plain": [
              "Date              0\n",
              "Location          0\n",
              "MinTemp           0\n",
              "MaxTemp           0\n",
              "Rainfall          0\n",
              "Evaporation       0\n",
              "Sunshine          3\n",
              "WindGustDir       3\n",
              "WindGustSpeed     2\n",
              "WindDir9am       31\n",
              "WindDir3pm        1\n",
              "WindSpeed9am      7\n",
              "WindSpeed3pm      0\n",
              "Humidity9am       0\n",
              "Humidity3pm       0\n",
              "Pressure9am       0\n",
              "Pressure3pm       0\n",
              "Cloud9am          0\n",
              "Cloud3pm          0\n",
              "Temp9am           0\n",
              "Temp3pm           0\n",
              "RainToday         0\n",
              "RISK_MM           0\n",
              "RainTomorrow      0\n",
              "dtype: int64"
            ]
          },
          "metadata": {
            "tags": []
          },
          "execution_count": 11
        }
      ]
    },
    {
      "metadata": {
        "id": "MfApGzfet6w0",
        "colab_type": "code",
        "colab": {
          "base_uri": "https://localhost:8080/",
          "height": 448
        },
        "outputId": "797859cf-0774-4ac5-9587-6bac8a548a9e"
      },
      "cell_type": "code",
      "source": [
        "data = data.fillna(data.mean())\n",
        "data = data.apply(lambda x: x.fillna(x.value_counts().index[0]))\n",
        "\n",
        "data.isnull().sum()"
      ],
      "execution_count": 12,
      "outputs": [
        {
          "output_type": "execute_result",
          "data": {
            "text/plain": [
              "Date             0\n",
              "Location         0\n",
              "MinTemp          0\n",
              "MaxTemp          0\n",
              "Rainfall         0\n",
              "Evaporation      0\n",
              "Sunshine         0\n",
              "WindGustDir      0\n",
              "WindGustSpeed    0\n",
              "WindDir9am       0\n",
              "WindDir3pm       0\n",
              "WindSpeed9am     0\n",
              "WindSpeed3pm     0\n",
              "Humidity9am      0\n",
              "Humidity3pm      0\n",
              "Pressure9am      0\n",
              "Pressure3pm      0\n",
              "Cloud9am         0\n",
              "Cloud3pm         0\n",
              "Temp9am          0\n",
              "Temp3pm          0\n",
              "RainToday        0\n",
              "RISK_MM          0\n",
              "RainTomorrow     0\n",
              "dtype: int64"
            ]
          },
          "metadata": {
            "tags": []
          },
          "execution_count": 12
        }
      ]
    },
    {
      "metadata": {
        "id": "R4MxerrHuKit",
        "colab_type": "code",
        "colab": {
          "base_uri": "https://localhost:8080/",
          "height": 448
        },
        "outputId": "d507e1d8-3e2d-4c86-f597-e78dbfebf29c"
      },
      "cell_type": "code",
      "source": [
        "\n",
        "data.dtypes"
      ],
      "execution_count": 13,
      "outputs": [
        {
          "output_type": "execute_result",
          "data": {
            "text/plain": [
              "Date              object\n",
              "Location          object\n",
              "MinTemp          float64\n",
              "MaxTemp          float64\n",
              "Rainfall         float64\n",
              "Evaporation      float64\n",
              "Sunshine         float64\n",
              "WindGustDir       object\n",
              "WindGustSpeed    float64\n",
              "WindDir9am        object\n",
              "WindDir3pm        object\n",
              "WindSpeed9am     float64\n",
              "WindSpeed3pm       int64\n",
              "Humidity9am        int64\n",
              "Humidity3pm        int64\n",
              "Pressure9am      float64\n",
              "Pressure3pm      float64\n",
              "Cloud9am           int64\n",
              "Cloud3pm           int64\n",
              "Temp9am          float64\n",
              "Temp3pm          float64\n",
              "RainToday         object\n",
              "RISK_MM          float64\n",
              "RainTomorrow      object\n",
              "dtype: object"
            ]
          },
          "metadata": {
            "tags": []
          },
          "execution_count": 13
        }
      ]
    },
    {
      "metadata": {
        "id": "iJ8CTk7buQpd",
        "colab_type": "code",
        "colab": {
          "base_uri": "https://localhost:8080/",
          "height": 1085
        },
        "outputId": "9545d5bc-bbe7-4ff9-b831-485f03d03c53"
      },
      "cell_type": "code",
      "source": [
        "series = pd.Series(data = data.MaxTemp)\n",
        "series"
      ],
      "execution_count": 14,
      "outputs": [
        {
          "output_type": "execute_result",
          "data": {
            "text/plain": [
              "0      24.3\n",
              "1      26.9\n",
              "2      23.4\n",
              "3      15.5\n",
              "4      16.1\n",
              "5      16.9\n",
              "6      18.2\n",
              "7      17.0\n",
              "8      19.5\n",
              "9      22.8\n",
              "10     25.2\n",
              "11     27.3\n",
              "12     27.9\n",
              "13     30.9\n",
              "14     31.2\n",
              "15     32.1\n",
              "16     31.2\n",
              "17     30.0\n",
              "18     32.3\n",
              "19     33.4\n",
              "20     33.4\n",
              "21     19.4\n",
              "22     18.5\n",
              "23     24.3\n",
              "24     28.4\n",
              "25     26.9\n",
              "26     22.2\n",
              "27     28.0\n",
              "28     24.3\n",
              "29     24.1\n",
              "       ... \n",
              "336    27.6\n",
              "337    28.9\n",
              "338    20.7\n",
              "339    21.3\n",
              "340    18.0\n",
              "341    16.0\n",
              "342    17.9\n",
              "343    20.0\n",
              "344    22.0\n",
              "345    22.4\n",
              "346    23.9\n",
              "347    26.1\n",
              "348    21.1\n",
              "349    19.6\n",
              "350    21.0\n",
              "351    24.1\n",
              "352    24.7\n",
              "353    28.5\n",
              "354    27.4\n",
              "355    20.6\n",
              "356    15.0\n",
              "357    18.0\n",
              "358    20.7\n",
              "359    25.5\n",
              "360    26.1\n",
              "361    30.7\n",
              "362    28.4\n",
              "363    19.9\n",
              "364    26.9\n",
              "365    30.2\n",
              "Name: MaxTemp, Length: 366, dtype: float64"
            ]
          },
          "metadata": {
            "tags": []
          },
          "execution_count": 14
        }
      ]
    },
    {
      "metadata": {
        "id": "A35rzKtOuUV2",
        "colab_type": "code",
        "colab": {}
      },
      "cell_type": "code",
      "source": [
        ""
      ],
      "execution_count": 0,
      "outputs": []
    }
  ]
}