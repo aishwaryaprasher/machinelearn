{
  "nbformat": 4,
  "nbformat_minor": 0,
  "metadata": {
    "colab": {
      "name": "Untitled16.ipynb",
      "version": "0.3.2",
      "provenance": [],
      "include_colab_link": true
    },
    "kernelspec": {
      "name": "python3",
      "display_name": "Python 3"
    }
  },
  "cells": [
    {
      "cell_type": "markdown",
      "metadata": {
        "id": "view-in-github",
        "colab_type": "text"
      },
      "source": [
        "[View in Colaboratory](https://colab.research.google.com/github/aishwaryaprasher/machinelearn/blob/master/deeplearning.ipynb)"
      ]
    },
    {
      "metadata": {
        "id": "yt4NGiDfMu_A",
        "colab_type": "code",
        "colab": {}
      },
      "cell_type": "code",
      "source": [
        "import math"
      ],
      "execution_count": 0,
      "outputs": []
    },
    {
      "metadata": {
        "id": "kwGrwNRRL37t",
        "colab_type": "code",
        "colab": {
          "base_uri": "https://localhost:8080/",
          "height": 34
        },
        "outputId": "6c7f7d25-1d2e-46f8-b0a6-5118c0ac1470"
      },
      "cell_type": "code",
      "source": [
        "print('(b+c)*(a-1)')"
      ],
      "execution_count": 1,
      "outputs": [
        {
          "output_type": "stream",
          "text": [
            "(b+c)*(a-1)\n"
          ],
          "name": "stdout"
        }
      ]
    },
    {
      "metadata": {
        "id": "FTgh-FQbL9dK",
        "colab_type": "code",
        "colab": {}
      },
      "cell_type": "code",
      "source": [
        "weight_1 =  2.7\n",
        "weight_2 =  -8.6\n",
        "weight_3 =  0.002"
      ],
      "execution_count": 0,
      "outputs": []
    },
    {
      "metadata": {
        "id": "VjQQc-FBMLvN",
        "colab_type": "code",
        "colab": {}
      },
      "cell_type": "code",
      "source": [
        "b1=-0.060\n",
        "b2=-2.52\n",
        "b3=1.41"
      ],
      "execution_count": 0,
      "outputs": []
    },
    {
      "metadata": {
        "id": "30na9EPCMdOk",
        "colab_type": "code",
        "colab": {
          "base_uri": "https://localhost:8080/",
          "height": 34
        },
        "outputId": "90562f2a-d6c6-4603-898b-15c989b4cb35"
      },
      "cell_type": "code",
      "source": [
        "x = (weight_1 * b1) + (weight_2 * b2) + (weight_3 * b3)\n",
        "print(x)"
      ],
      "execution_count": 8,
      "outputs": [
        {
          "output_type": "stream",
          "text": [
            "21.51282\n"
          ],
          "name": "stdout"
        }
      ]
    },
    {
      "metadata": {
        "id": "OKIwZ0KPMfCO",
        "colab_type": "code",
        "colab": {
          "base_uri": "https://localhost:8080/",
          "height": 34
        },
        "outputId": "8858d588-d6e7-4a5f-ca08-9052ffa43956"
      },
      "cell_type": "code",
      "source": [
        "e = math.exp(-x)\n",
        "\n",
        "print(e)"
      ],
      "execution_count": 11,
      "outputs": [
        {
          "output_type": "stream",
          "text": [
            "4.540471811722297e-10\n"
          ],
          "name": "stdout"
        }
      ]
    },
    {
      "metadata": {
        "id": "w-lTB35MM735",
        "colab_type": "code",
        "colab": {
          "base_uri": "https://localhost:8080/",
          "height": 34
        },
        "outputId": "ac6d33a2-0b48-46af-a9c2-cfe473cd5553"
      },
      "cell_type": "code",
      "source": [
        "f = 1/(1+e)\n",
        "print(f)"
      ],
      "execution_count": 12,
      "outputs": [
        {
          "output_type": "stream",
          "text": [
            "0.9999999995459528\n"
          ],
          "name": "stdout"
        }
      ]
    },
    {
      "metadata": {
        "id": "G90yJtTqM-cp",
        "colab_type": "code",
        "colab": {
          "base_uri": "https://localhost:8080/",
          "height": 34
        },
        "outputId": "c1d4a6ce-ea0a-46bd-9736-15e35e091124"
      },
      "cell_type": "code",
      "source": [
        "bias = -1.1\n",
        "x_b = (weight_1 * b1) + (weight_2 * b2) + (weight_3 * b3) + bias\n",
        "print(x_b)"
      ],
      "execution_count": 13,
      "outputs": [
        {
          "output_type": "stream",
          "text": [
            "20.41282\n"
          ],
          "name": "stdout"
        }
      ]
    },
    {
      "metadata": {
        "id": "cSevpofsNC5x",
        "colab_type": "code",
        "colab": {}
      },
      "cell_type": "code",
      "source": [
        "ex = math.exp(-x_b)"
      ],
      "execution_count": 0,
      "outputs": []
    },
    {
      "metadata": {
        "id": "P8pPtRjUNJ5w",
        "colab_type": "code",
        "colab": {
          "base_uri": "https://localhost:8080/",
          "height": 34
        },
        "outputId": "d93b0a49-04c5-48fb-f9ce-0d8738e1ab42"
      },
      "cell_type": "code",
      "source": [
        "f_bx = 1/(1+ex)\n",
        "\n",
        "print(f_bx)"
      ],
      "execution_count": 16,
      "outputs": [
        {
          "output_type": "stream",
          "text": [
            "0.9999999986359669\n"
          ],
          "name": "stdout"
        }
      ]
    },
    {
      "metadata": {
        "id": "jTe_iFP3NNlO",
        "colab_type": "code",
        "colab": {
          "base_uri": "https://localhost:8080/",
          "height": 34
        },
        "outputId": "85d46c91-ab72-4c13-c3d6-f533becea7f1"
      },
      "cell_type": "code",
      "source": [
        "diff = f - f_bx\n",
        "print(diff)"
      ],
      "execution_count": 17,
      "outputs": [
        {
          "output_type": "stream",
          "text": [
            "9.099858644390224e-10\n"
          ],
          "name": "stdout"
        }
      ]
    }
  ]
}