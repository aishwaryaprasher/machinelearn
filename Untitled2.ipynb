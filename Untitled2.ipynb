{
  "nbformat": 4,
  "nbformat_minor": 0,
  "metadata": {
    "colab": {
      "name": "Untitled2.ipynb",
      "version": "0.3.2",
      "provenance": [],
      "include_colab_link": true
    },
    "kernelspec": {
      "name": "python3",
      "display_name": "Python 3"
    }
  },
  "cells": [
    {
      "cell_type": "markdown",
      "metadata": {
        "id": "view-in-github",
        "colab_type": "text"
      },
      "source": [
        "[View in Colaboratory](https://colab.research.google.com/github/aishwaryaprasher/machinelearn/blob/master/Untitled2.ipynb)"
      ]
    },
    {
      "metadata": {
        "id": "ZEZY9CsXBNEP",
        "colab_type": "code",
        "colab": {
          "base_uri": "https://localhost:8080/",
          "height": 34
        },
        "outputId": "fe1bb52c-8979-427e-bb20-c2b630b3a510"
      },
      "cell_type": "code",
      "source": [
        "#QUESTION1\n",
        "def conditionalprob(pA,pB,pAB):\n",
        "    pA_B=pB*pAB\n",
        "    pBA=pA_B/pA\n",
        "    return pBA\n",
        "print(conditionalprob(11/36,6/36,2/36))\n",
        "\n"
      ],
      "execution_count": 1,
      "outputs": [
        {
          "output_type": "stream",
          "text": [
            "0.0303030303030303\n"
          ],
          "name": "stdout"
        }
      ]
    },
    {
      "metadata": {
        "id": "LtadueG1BW16",
        "colab_type": "code",
        "colab": {
          "base_uri": "https://localhost:8080/",
          "height": 34
        },
        "outputId": "89baf55b-8708-44dc-9a34-fb9e947778dc"
      },
      "cell_type": "code",
      "source": [
        "#QUESTION2\n",
        "w1=4\n",
        "b1=6\n",
        "w2=4\n",
        "b2=3\n",
        "\n",
        "p=(0.5*(b1/(w1+b1)))/((0.5*(b1/(w1+b1)))+(0.5*(b2/(w2+b2))))\n",
        "print(p)\n",
        "\n"
      ],
      "execution_count": 2,
      "outputs": [
        {
          "output_type": "stream",
          "text": [
            "0.5833333333333334\n"
          ],
          "name": "stdout"
        }
      ]
    },
    {
      "metadata": {
        "id": "bE7-WiDyBb89",
        "colab_type": "code",
        "colab": {
          "base_uri": "https://localhost:8080/",
          "height": 34
        },
        "outputId": "702dae9f-9c4d-481b-ca41-5f6dbe12ac80"
      },
      "cell_type": "code",
      "source": [
        "#QUESTION3\n",
        "print(((1/6)*(2/3))+((5/6)*(1/3)))"
      ],
      "execution_count": 3,
      "outputs": [
        {
          "output_type": "stream",
          "text": [
            "0.3888888888888889\n"
          ],
          "name": "stdout"
        }
      ]
    }
  ]
}